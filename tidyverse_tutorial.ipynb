{
 "cells": [
  {
   "cell_type": "markdown",
   "id": "d6e49ad5-303a-4986-8498-021d76bece05",
   "metadata": {},
   "source": [
    "Tidyverse is a collection of R packages that provides a cohesive framework for cleaning, manipulatin, analyzing, and visualizing data. For two excellent and free guides see:\n",
    "  * https://r4ds.hadley.nz/. \n",
    "  * https://jhudatascience.org/tidyversecourse/\n",
    "\n",
    "In this script I apply some commonly used functions from the tidyverse packages to a dataset from the National Longitudinal Survey of Youth 1979 (NLSY79)."
   ]
  },
  {
   "cell_type": "markdown",
   "id": "740d2f4a-8c21-4132-904d-90f28d846a5b",
   "metadata": {},
   "source": [
    "# GET SET UP, IMPORT DATA WITH READR"
   ]
  },
  {
   "cell_type": "code",
   "execution_count": null,
   "id": "d6b7306e-eb2a-4193-a429-309f159a6bf4",
   "metadata": {},
   "outputs": [],
   "source": [
    "#install.packages(\"tidyverse\")\n",
    "library(tidyverse)"
   ]
  },
  {
   "cell_type": "code",
   "execution_count": null,
   "id": "0e8a287b-0f28-4cb6-9154-64b870fb1225",
   "metadata": {},
   "outputs": [],
   "source": [
    "df <- read_csv(\"data/input/tidytutorial.csv\")"
   ]
  },
  {
   "cell_type": "code",
   "execution_count": null,
   "id": "24dd858c-2c84-419a-8426-b6ef08c3e428",
   "metadata": {},
   "outputs": [],
   "source": [
    "df \n",
    "\n",
    "head(df)\n",
    "\n",
    "tail(df)\n",
    "\n",
    "glimpse(df)\n",
    "\n",
    "summary(df)"
   ]
  }
 ],
 "metadata": {
  "kernelspec": {
   "display_name": "R",
   "language": "R",
   "name": "ir"
  },
  "language_info": {
   "codemirror_mode": "r",
   "file_extension": ".r",
   "mimetype": "text/x-r-source",
   "name": "R",
   "pygments_lexer": "r",
   "version": "3.6.1"
  }
 },
 "nbformat": 4,
 "nbformat_minor": 5
}
