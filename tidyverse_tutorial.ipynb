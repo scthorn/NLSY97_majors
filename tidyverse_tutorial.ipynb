{
 "cells": [
  {
   "cell_type": "markdown",
   "id": "d6e49ad5-303a-4986-8498-021d76bece05",
   "metadata": {},
   "source": [
    "# Intro to the Tidyverse\n",
    "\n",
    "Tidyverse is a collection of R packages that provides a cohesive framework for cleaning, manipulating, analyzing, and visualizing data. For two excellent and free guides see:\n",
    "  * https://r4ds.hadley.nz/. \n",
    "  * https://jhudatascience.org/tidyversecourse/\n",
    "\n",
    "This script walks you through the tidyverse by cleaning, reformatting, and exploring data from NLSY97, a large scale longitudinal survey conducted by the U.S. Bureau of Labor Statistics. "
   ]
  },
  {
   "cell_type": "code",
   "execution_count": null,
   "id": "bda00501-6f76-4d51-bca5-4a031523ded2",
   "metadata": {},
   "outputs": [],
   "source": [
    "library(tidyverse) #load the tidyverse"
   ]
  },
  {
   "cell_type": "markdown",
   "id": "740d2f4a-8c21-4132-904d-90f28d846a5b",
   "metadata": {},
   "source": [
    "## Importing data with readr\n",
    "\n",
    "Import data using readr, a package that provides a fast and friendly way to read rectangular data (like csv files) into R. Save it as a dataframe called df."
   ]
  },
  {
   "cell_type": "code",
   "execution_count": null,
   "id": "0e8a287b-0f28-4cb6-9154-64b870fb1225",
   "metadata": {},
   "outputs": [],
   "source": [
    "#This block reads in a csv from my github. If you're running this script locally you'll need to change the file path to wherever your data is.\n",
    "\n",
    "df <- read_csv(\"https://raw.githubusercontent.com/scthorn/NLSY97_majors/main/data/tidytutorial.csv\") "
   ]
  },
  {
   "cell_type": "markdown",
   "id": "29655503-91e2-4441-b665-1adce57dafb2",
   "metadata": {},
   "source": [
    "There are all sorts of ways to take a look at the data."
   ]
  },
  {
   "cell_type": "code",
   "execution_count": null,
   "id": "24dd858c-2c84-419a-8426-b6ef08c3e428",
   "metadata": {},
   "outputs": [],
   "source": [
    "df #prints the entire dataframe to the console (well, as much as will fit)"
   ]
  },
  {
   "cell_type": "code",
   "execution_count": null,
   "id": "f25c315c-7c31-4662-a46f-0493bd649bd0",
   "metadata": {},
   "outputs": [],
   "source": [
    "head(df) #prints the first few rows of the dataframe to the console"
   ]
  },
  {
   "cell_type": "code",
   "execution_count": null,
   "id": "dc191091-56e6-4563-9c24-9b3b3c97383a",
   "metadata": {},
   "outputs": [],
   "source": [
    "glimpse(df) #prints a summary of the dataframe to the console"
   ]
  },
  {
   "cell_type": "code",
   "execution_count": null,
   "id": "b41fe890-e955-41ca-84c5-ca9944a2f388",
   "metadata": {},
   "outputs": [],
   "source": [
    "summary(df) #prints summary statistics for each variable to the console"
   ]
  },
  {
   "cell_type": "markdown",
   "id": "17ddecd1-0a3b-4394-b8dd-d54bbdf46dc5",
   "metadata": {},
   "source": [
    "## Manipulating data with dplyr\n",
    "\n",
    "Dplyr is a package that provides functions for manipulating data. \n",
    "\n",
    "### Common dplyr verbs\n",
    "\n",
    "Dplyr is built around verbs representing functions you can apply to your data. Try each of the following to see what they do.\n",
    "\n",
    "Work with columns:"
   ]
  },
  {
   "cell_type": "code",
   "execution_count": null,
   "id": "e127c335-41a3-4121-8de2-6a49f5435f45",
   "metadata": {},
   "outputs": [],
   "source": [
    "rename(df, yob = R0536402) #rename the variable R0536402 to yob"
   ]
  },
  {
   "cell_type": "code",
   "execution_count": null,
   "id": "73ce12fd-3a35-4e59-abbc-6589825cf905",
   "metadata": {},
   "outputs": [],
   "source": [
    "select(df, R0000100, R0536300, R0536402) #select only these three variables"
   ]
  },
  {
   "cell_type": "code",
   "execution_count": null,
   "id": "a1c74df8-3e9c-44fb-bb10-9386f761d5a2",
   "metadata": {},
   "outputs": [],
   "source": [
    "relocate(df, R0536402) #move the variable R0536402 to the first column"
   ]
  },
  {
   "cell_type": "code",
   "execution_count": null,
   "id": "c363e595-9128-40fc-9190-49a4fa9d8a06",
   "metadata": {},
   "outputs": [],
   "source": [
    "mutate(df, ageish2021 = 2021 - R0536402) #create a new variable that calculates each R's approximate age in 2021"
   ]
  },
  {
   "cell_type": "markdown",
   "id": "cd0aaebb-fb8b-42a0-af64-394aa7b09246",
   "metadata": {},
   "source": [
    "Work with rows:"
   ]
  },
  {
   "cell_type": "code",
   "execution_count": null,
   "id": "f6dfd957-6c89-46d9-ac58-88c0a44c1d50",
   "metadata": {},
   "outputs": [],
   "source": [
    "filter(df, R0536402 == 1980) #only include cases where the year of birth is 1980"
   ]
  },
  {
   "cell_type": "code",
   "execution_count": null,
   "id": "0ebfaf9c-c318-4ee2-b891-fa21bc2ea50d",
   "metadata": {},
   "outputs": [],
   "source": [
    "slice(df, 1:3) #only include the first three cases"
   ]
  },
  {
   "cell_type": "code",
   "execution_count": null,
   "id": "9c7b9a27-9e18-473f-95a9-3a732fd4fb49",
   "metadata": {},
   "outputs": [],
   "source": [
    "sample_n(df, 3) #randomly select three cases"
   ]
  },
  {
   "cell_type": "markdown",
   "id": "e20da0d8-a801-47cd-9a1c-c35412fef389",
   "metadata": {},
   "source": [
    "Work with groups:"
   ]
  },
  {
   "cell_type": "code",
   "execution_count": null,
   "id": "63bcd882-22c2-4353-b176-88cdc9c91ac5",
   "metadata": {},
   "outputs": [],
   "source": [
    "group_by(df, R0536402) #Usually you would do this to apply a function to each group. We'll get to that below."
   ]
  },
  {
   "cell_type": "markdown",
   "id": "c73d385e-f377-4595-b680-97666a9f64be",
   "metadata": {},
   "source": [
    "### The Pipe (%>%)\n",
    "\n",
    "You can use the 'pipe' to combine multiple actions. It takes the output of one function and uses it as the input to the next function."
   ]
  },
  {
   "cell_type": "code",
   "execution_count": null,
   "id": "1c6e5c10-f19e-46fb-b938-5dc2b2055f98",
   "metadata": {},
   "outputs": [],
   "source": [
    "df %>%\n",
    "  rename(yob = R0536402) %>% #rename the variable R0536402 to yob\n",
    "  select(R0000100, R0536300, yob) %>% #select only these three variables\n",
    "  relocate(yob) %>% #move the variable yob to the first column\n",
    "  mutate(ageish2021 = 2021 - yob) %>% #create a new variable that calculates each R's approximate age in 2021\n",
    "  filter(ageish2021 == 41) #only include cases where the age in 2021 is 41"
   ]
  },
  {
   "cell_type": "code",
   "execution_count": null,
   "id": "f670317c-6afe-4ae2-b775-fbc68b6a6aae",
   "metadata": {},
   "outputs": [],
   "source": [
    "df %>%\n",
    "  group_by(R0536402) %>% #group by year of birth (R0536402)\n",
    "  count() #this will count the number of Rs for each year of birth"
   ]
  },
  {
   "cell_type": "markdown",
   "id": "d6c54315-4680-4155-965a-7b85417d27ad",
   "metadata": {},
   "source": [
    "The syntax as written above only prints to the console. If you want to save the output you need to assign it to a new dataframe. "
   ]
  },
  {
   "cell_type": "code",
   "execution_count": null,
   "id": "67db91b0-6fa1-45b3-a623-7c84e0ffd2e1",
   "metadata": {},
   "outputs": [],
   "source": [
    "df_practice <- df %>%\n",
    "  rename(yob = R0536402) %>%\n",
    "  select(R0000100, R0536300, yob) %>%\n",
    "  relocate(yob) %>%\n",
    "  mutate(ageish2021 = 2021 - yob) %>%\n",
    "  filter(ageish2021 == 41)"
   ]
  },
  {
   "cell_type": "markdown",
   "id": "ccbec766-a49f-44ba-b16b-b7bf17911a21",
   "metadata": {},
   "source": [
    "You won't see the output in the notebook, but the code above created a new dataframe called \"df_practice.\" Anytime you want to take a look at your data you can use one of the functions from the beginning of this tutorial to do so. "
   ]
  },
  {
   "cell_type": "code",
   "execution_count": null,
   "id": "17b5a013-5147-44ca-ab7c-0f925c98905c",
   "metadata": {},
   "outputs": [],
   "source": [
    "glimpse(df_practice) "
   ]
  },
  {
   "cell_type": "markdown",
   "id": "ccbae294-a84e-47b8-8981-47253164f2a0",
   "metadata": {},
   "source": [
    "### Working with the NLSY data\n",
    "Let's use these dplyr functions to make this data a little easier to work with."
   ]
  },
  {
   "cell_type": "code",
   "execution_count": null,
   "id": "f908bcc7-8eed-41d8-923d-4dbe3a600c07",
   "metadata": {},
   "outputs": [],
   "source": [
    "#rename variables\n",
    "df <- df |> \n",
    "  rename(ID = R0000100, \n",
    "       sex = R0536300,                  \n",
    "       yob = R0536402,                         \n",
    "       biodad_edu = R1302400,                                \n",
    "       biomom_edu = R1302500,                             \n",
    "       resdad_edu = R1302600,                             \n",
    "       resmom_edu = R1302700,                        \n",
    "       race = R1482600,       \n",
    "       inschool2015 = U0008700,                                              \n",
    "       hhincome2015 = U0008900,\n",
    "       marstat2015 = U0014500,                  \n",
    "       urbanrural2015 = U0015000,\n",
    "       inschool2017 = U1845300,                             \n",
    "       hhincome2017 = U1845500,                                              \n",
    "       marstat2017 = U1852300,                                   \n",
    "       urbanrural2017 = U1853200,\n",
    "       inschool2019 = U3443800,        \n",
    "       hhincome2019 = U3444000,         \n",
    "       marstat2019 = U3451400,          \n",
    "       urbanrural2019 = U3453600,         \n",
    "       inschool2021 = U4949500,           \n",
    "       hhincome2021 = U4949700,          \n",
    "       marstat2021 = U4954500,               \n",
    "       urbanrural2021 = U4956900,     \n",
    "       educ = Z9083900,\n",
    "       ba_date = Z9084400,          \n",
    "       prof_date = Z9084500,         \n",
    "       phd_date = Z9084600,         \n",
    "       ma_date = Z9084700,            \n",
    "       last_interview_round = Z9085100,           \n",
    "       hhnetworth_30 = Z9121900,    \n",
    "       hhnetworth_35 = Z9141400,    \n",
    "       hhnetworth_40 = Z9164500)\n",
    "\n",
    "glimpse(df)"
   ]
  },
  {
   "cell_type": "code",
   "execution_count": null,
   "id": "4172ec3d-5cfe-4d93-a9c3-2b9b79f969fa",
   "metadata": {},
   "outputs": [],
   "source": [
    "#replace missing values (represented by -1 to -5) with NA\n",
    "df <- df |>\n",
    "  mutate(across(everything(), ~ifelse(. %in% c(-1, -2, -3, -4, -5), NA, .))) \n",
    "\n",
    "head(df)"
   ]
  },
  {
   "cell_type": "code",
   "execution_count": null,
   "id": "43e7bc69-c255-4fd1-8db6-a034b9afa6ef",
   "metadata": {},
   "outputs": [],
   "source": [
    "#assign appropriate datatypes and recode from numbers to values\n",
    "df <- df |>\n",
    "  relocate(yob:resmom_edu, starts_with(\"hhincome\"), .after = hhnetworth_40) |> #we're moving variables just to lump datatypes together to make the next step simpler\n",
    "  mutate(across(ba_date:hhincome2021, ~ as.integer(.))) |> #convert these variables to integers\n",
    "  mutate(across(sex:educ, ~ as.factor(.))) |> #convert these variables to factors\n",
    "  mutate(sex = fct_recode(sex, \n",
    "                          \"male\" = \"1\",\n",
    "                          \"female\" = \"2\")) |> #recode from numbers to the values they represent\n",
    "  mutate(race = fct_recode(race,\n",
    "                           \"black\" = \"1\",\n",
    "                           \"hispanic\" = \"2\",\n",
    "                           \"multi\" = \"3\",\n",
    "                           \"nonblacknonhispanic\" = \"4\")) |>\n",
    "  mutate(educ = fct_recode(educ,\n",
    "                           \"None\" = \"0\",\n",
    "                           \"GED\" = \"1\",\n",
    "                           \"HS\" = \"2\",\n",
    "                           \"AA\" = \"3\",\n",
    "                           \"BA\" = \"4\",\n",
    "                           \"MA\" = \"5\",\n",
    "                           \"PhD\" = \"6\",\n",
    "                           \"ProfD\" = \"7\")) |>\n",
    "  mutate(across(biodad_edu:resmom_edu, ~ case_when( #recode from years of education to a smaller number of categories\n",
    "    . < 12 ~ \"less than HS\",\n",
    "    . == 12 ~ \"HS\",\n",
    "    . > 12 & . < 16 ~ \"Some college\", \n",
    "    . >= 16 ~ \"BA or more\", \n",
    "    TRUE ~ NA_character_ \n",
    "  )))\n",
    "\n",
    "glimpse(df)"
   ]
  },
  {
   "cell_type": "markdown",
   "id": "209ef1f2-f8e9-46be-a51a-71769a40a9ea",
   "metadata": {},
   "source": [
    "### Exercises 1"
   ]
  },
  {
   "cell_type": "code",
   "execution_count": null,
   "id": "a3119481-8e85-4c37-b1ec-56791f5eaee4",
   "metadata": {},
   "outputs": [],
   "source": [
    "#1. Rename the hhincome2015 variable to hhincome15 (or anything else you want)."
   ]
  },
  {
   "cell_type": "code",
   "execution_count": null,
   "id": "dcf465fd-6d3b-4f05-8493-420f9658f044",
   "metadata": {},
   "outputs": [],
   "source": [
    "#2. Recode the urbanrural2021 variable to \"rural\" for 0, \"urban\" for 1, and \"unknown\" for 2."
   ]
  },
  {
   "cell_type": "markdown",
   "id": "59e2c4d5-bf77-43b9-ac94-be9c9379002a",
   "metadata": {},
   "source": [
    "Trickier: "
   ]
  },
  {
   "cell_type": "code",
   "execution_count": null,
   "id": "986e84bc-2eff-430f-b588-0e23323ffe6c",
   "metadata": {},
   "outputs": [],
   "source": [
    "#3. Set all values of \"unknown\" to NA for the area_type variable."
   ]
  },
  {
   "cell_type": "code",
   "execution_count": null,
   "id": "5092f345-587f-43b3-9415-e3be78517a2b",
   "metadata": {},
   "outputs": [],
   "source": [
    "#4. Recode all the urbanrural variables to \"rural\" for 0, \"urban\" for 1, and \"unknown\" for 2, within the same mutate function."
   ]
  },
  {
   "cell_type": "markdown",
   "id": "2007bcc6-f252-4f03-b5a3-66163f99eb27",
   "metadata": {},
   "source": [
    "## Reshaping Data With Tidyr (and a little string manipulation with stringr) \n",
    "\n",
    "Tidyr is a package that provides tools for tidying data. Tidying data means structuring datasets to facilitate analysis. Principles of tidy data are as follows: \n",
    "* Each variable forms a column.\n",
    "* Each observation forms a row.\n",
    "* Each cell contains a single value.\n",
    "\n",
    "For demonstration purposes we'll use a subset of the data."
   ]
  },
  {
   "cell_type": "code",
   "execution_count": null,
   "id": "a85f52c2-cf7f-4350-8d99-1cf496ecc7c7",
   "metadata": {},
   "outputs": [],
   "source": [
    "demo <- df |>\n",
    "  select(ID, hhincome2017, hhincome2019, hhincome2021)\n",
    "\n",
    "demo #take a look. This data is in wide format."
   ]
  },
  {
   "cell_type": "markdown",
   "id": "2e0055d4-53f1-4355-ac46-ca26504e8c0b",
   "metadata": {},
   "source": [
    "Pivot_longer is a function that takes data in wide format and makes it longer."
   ]
  },
  {
   "cell_type": "code",
   "execution_count": null,
   "id": "4e65c1a3-1644-426e-8758-852254b0005c",
   "metadata": {},
   "outputs": [],
   "source": [
    "longer <- demo |>\n",
    "  pivot_longer(cols = starts_with(\"hhincome\"), #specify the columns you want to make longer\n",
    "               names_to = \"year\", #name the new variable that will hold the column names\n",
    "               values_to = \"hhincome\") #name the new variable that will hold the values\n",
    "\n",
    "longer #take a look. this data is in long format"
   ]
  },
  {
   "cell_type": "markdown",
   "id": "0a8930c5-a8a0-43e3-a24b-440ea31e947b",
   "metadata": {},
   "source": [
    "You can use stringr to extract the year from the variable name:"
   ]
  },
  {
   "cell_type": "code",
   "execution_count": null,
   "id": "71adb690-9be8-4563-8189-bec6781843f1",
   "metadata": {},
   "outputs": [],
   "source": [
    "longer <- longer |>\n",
    "  mutate(year = str_sub(year, -4)) #str_sub is a function that extracts a substring from a string. Here I'm saying to take the last four characters.\n",
    "\n",
    "head(longer)"
   ]
  },
  {
   "cell_type": "markdown",
   "id": "63806541-9a97-42ed-af8f-4ff6931dc67d",
   "metadata": {},
   "source": [
    "Pivot_wider is a function that takes data in long format and spreads it out."
   ]
  },
  {
   "cell_type": "code",
   "execution_count": null,
   "id": "0ef4fb7c-6924-4cf6-8d48-b3f523f0c8c5",
   "metadata": {},
   "outputs": [],
   "source": [
    "back_to_wide <- longer |>\n",
    "  pivot_wider(names_from = year, #specify the variable whose values will become column names\n",
    "              values_from = hhincome) #specify the variable whose values will become the cell values\n",
    "\n",
    "back_to_wide #take a look. this data is back in wide format"
   ]
  },
  {
   "cell_type": "markdown",
   "id": "60dec093-63d6-488d-b6b0-1d9bdda24508",
   "metadata": {},
   "source": [
    "You can use stringr to combine two strings for the variable name:"
   ]
  },
  {
   "cell_type": "code",
   "execution_count": null,
   "id": "21e8615a-738d-41dd-a827-95732c92f92f",
   "metadata": {},
   "outputs": [],
   "source": [
    "back_to_wide <- back_to_wide |>\n",
    "  rename_with(~str_c(\"hhincome\", .x), '2017':'2021') #str_c is a function that concatenates strings. Here I'm adding \"hhincome\" to the beginning of each variable name\n",
    "\n",
    "head(back_to_wide)"
   ]
  },
  {
   "cell_type": "markdown",
   "id": "5874fb77-4ad4-4695-aee1-2654e2a5e2cb",
   "metadata": {},
   "source": [
    "### Exercises 2"
   ]
  },
  {
   "cell_type": "code",
   "execution_count": null,
   "id": "ed3f57cf-7d9e-45a6-b19e-2fb50037fff0",
   "metadata": {},
   "outputs": [],
   "source": [
    "#1. Create a new dataframe that includes only the variables ID, yob, urbanrural2021, race, HHnetworth_30, HHnetworth_35, and HHnetworth_40. Save it as df_networth."
   ]
  },
  {
   "cell_type": "code",
   "execution_count": null,
   "id": "ee9212fa-f256-403a-a0c0-7f1785fa8acf",
   "metadata": {},
   "outputs": [],
   "source": [
    "#2. Reshape df_networth so that the net worth variables are in long format."
   ]
  },
  {
   "cell_type": "markdown",
   "id": "caf2c4b3-5b3e-49d7-b9de-d5f1053fc474",
   "metadata": {},
   "source": [
    "Trickier:"
   ]
  },
  {
   "cell_type": "code",
   "execution_count": null,
   "id": "32174e3b-123b-4743-94f9-72c2b45f411e",
   "metadata": {},
   "outputs": [],
   "source": [
    "#3. Rename the household net worth variables in df_networth to \"at30\", \"at35\", and \"at40.\""
   ]
  },
  {
   "cell_type": "code",
   "execution_count": null,
   "id": "f2532868-9429-496c-8c9c-d61891c1c97c",
   "metadata": {},
   "outputs": [],
   "source": [
    "#4. Create a new variable for the year each R was 30."
   ]
  },
  {
   "cell_type": "markdown",
   "id": "181f8bc2-9695-4331-9cc0-b245f090db1d",
   "metadata": {},
   "source": [
    "## Descriptive stats with dplyr\n",
    "\n",
    "I've created a simplified dataframe to demonstrate some basic descriptive statistics and exploratory visualization."
   ]
  },
  {
   "cell_type": "code",
   "execution_count": null,
   "id": "f992095c-27ef-4067-87e9-131134059b7b",
   "metadata": {},
   "outputs": [],
   "source": [
    "df_simple <- read_csv(\"https://raw.githubusercontent.com/scthorn/NLSY97_majors/main/data/df_simple.csv\")  #read in the data, remember to change the file path if you need to"
   ]
  },
  {
   "cell_type": "markdown",
   "id": "0ac2659c-5538-4944-aa3a-1231943fa6c9",
   "metadata": {},
   "source": [
    "### Univariate Frequencies and Summary Stats\n",
    "\n",
    "Categorical variable"
   ]
  },
  {
   "cell_type": "code",
   "execution_count": null,
   "id": "6fe7aaa0-312a-45f1-8329-fa91c6b29d3e",
   "metadata": {},
   "outputs": [],
   "source": [
    "df_simple |>\n",
    "  group_by(parent_edu) |>  #group by a variable\n",
    "  count() #count the number of cases in each group"
   ]
  },
  {
   "cell_type": "markdown",
   "id": "0159d533-e6d4-4fc1-b710-8a2ca7433cbb",
   "metadata": {},
   "source": [
    "Continuous variable"
   ]
  },
  {
   "cell_type": "code",
   "execution_count": null,
   "id": "258a8884-3370-4b95-b4ed-37245e50055e",
   "metadata": {},
   "outputs": [],
   "source": [
    "df_simple |>\n",
    "  summarize(mean_income = mean(hhincome2021, na.rm = TRUE), #the na.rm argument tells R to ignore missing values\n",
    "            median_income = median(hhincome2021, na.rm = TRUE),\n",
    "            sd_income = sd(hhincome2021, na.rm = TRUE),\n",
    "            min_income = min(hhincome2021, na.rm = TRUE),\n",
    "            max_income = max(hhincome2021, na.rm = TRUE))"
   ]
  },
  {
   "cell_type": "markdown",
   "id": "a50113d3-8639-4581-b205-30561f2cf1e9",
   "metadata": {},
   "source": [
    "### Bivariate Frequencies (Crosstabs) and Summary Stats"
   ]
  },
  {
   "cell_type": "code",
   "execution_count": null,
   "id": "e87d7d83-d30c-473a-ad41-23d82c7d3a20",
   "metadata": {},
   "outputs": [],
   "source": [
    "df_simple |>\n",
    "  group_by(parent_edu, educ) |> #group by two variables\n",
    "  count() |> #count the number of cases for each combination of the two variables\n",
    "  pivot_wider(names_from = educ, values_from = n, values_fill = 0 #spread the data out to display as crosstabs\n",
    "\n",
    "df_simple |>\n",
    "  group_by(parent_edu) |> #group by parents education, then calculate summary stats per group\n",
    "  summarize(mean_income = mean(hhincome2021, na.rm = TRUE),\n",
    "            median_income = median(hhincome2021, na.rm = TRUE),\n",
    "            sd_income = sd(hhincome2021, na.rm = TRUE),\n",
    "            min_income = min(hhincome2021, na.rm = TRUE),\n",
    "            max_income = max(hhincome2021, na.rm = TRUE))"
   ]
  },
  {
   "cell_type": "markdown",
   "id": "6cceeec3-3650-42b4-bdbe-3f977881fe0c",
   "metadata": {},
   "source": [
    "## Exploratory Visualization with ggplot (if we have time)\n",
    "\n",
    "ggplot is a package that implements the grammar of graphics. It's a powerful tool for creating visualizations. You can think of ggplot as a way to build up a plot piece by piece. You start by specifying the data you want to plot and the variables you want to map to aesthetics, then you add layers to the plot.\n",
    "\n",
    "### Univariate "
   ]
  },
  {
   "cell_type": "code",
   "execution_count": null,
   "id": "b4b22323-7a52-4d0a-9ac3-c3dc15c05f1f",
   "metadata": {},
   "outputs": [],
   "source": [
    "#categorical variable\n",
    "ggplot(df_simple, aes(x = parent_edu)) + #specify the dataset and the variable you want to plot\n",
    "  geom_bar()  #add a layer for the plot type"
   ]
  },
  {
   "cell_type": "code",
   "execution_count": null,
   "id": "0e246309-abee-42ec-9c89-515ee8d8bad7",
   "metadata": {},
   "outputs": [],
   "source": [
    "#continuous variable\n",
    "ggplot(df_simple, aes(x = hhincome2021)) + \n",
    "  geom_histogram()"
   ]
  },
  {
   "cell_type": "code",
   "execution_count": null,
   "id": "e8e5f7be-fd54-4a5e-aa38-0dc8106f87ba",
   "metadata": {},
   "outputs": [],
   "source": [
    "ggplot(df_simple, aes(y = hhincome2021)) + \n",
    "  geom_boxplot() "
   ]
  },
  {
   "cell_type": "markdown",
   "id": "6f1fb452-9874-4028-81ad-378442147c87",
   "metadata": {},
   "source": [
    "You can add more layers to the plot to customize it further."
   ]
  },
  {
   "cell_type": "code",
   "execution_count": null,
   "id": "84abedbb-2f94-4178-bd91-853f56b0f4ee",
   "metadata": {},
   "outputs": [],
   "source": [
    "ggplot(df_simple, aes(y = hhincome2021)) + \n",
    "  geom_boxplot() + \n",
    "  scale_y_continuous(labels = scales::dollar_format()) + #format the y-axis as dollars\n",
    "  labs(title = \"Household income distribution\") #add a title"
   ]
  },
  {
   "cell_type": "markdown",
   "id": "17ade0e7-5d2b-4388-8a47-2a894e65ee2a",
   "metadata": {},
   "source": [
    "### Bivariate "
   ]
  },
  {
   "cell_type": "code",
   "execution_count": null,
   "id": "c512a021-639c-4b99-a395-36c65759b711",
   "metadata": {},
   "outputs": [],
   "source": [
    "ggplot(df_simple, aes(x = parent_edu, y = educ)) + \n",
    "  geom_jitter() #jitter is a way to spread out points that would otherwise overlap"
   ]
  },
  {
   "cell_type": "code",
   "execution_count": null,
   "id": "6f17876f-ba29-4444-89a9-158cecb00fc1",
   "metadata": {},
   "outputs": [],
   "source": [
    "ggplot(df_simple, aes(x = parent_edu, y = hhincome2021)) + \n",
    "  geom_boxplot() + \n",
    "  scale_y_continuous(labels = scales::dollar_format())"
   ]
  },
  {
   "cell_type": "code",
   "execution_count": null,
   "id": "dc61b20a-aa07-4446-958f-c5e9a0a5ea9c",
   "metadata": {},
   "outputs": [],
   "source": [
    "ggplot(df_simple, aes(x = hhincome2021)) + \n",
    "  geom_histogram() + \n",
    "  facet_wrap(~parent_edu) #facet_wrap creates separate plots for each level of a categorical variable"
   ]
  },
  {
   "cell_type": "markdown",
   "id": "e4ee297d-795e-4c81-9232-543b49b93b70",
   "metadata": {},
   "source": [
    "### Exercises 4\n",
    "\n",
    "Complete these questions using df_networth:"
   ]
  },
  {
   "cell_type": "code",
   "execution_count": null,
   "id": "f82feeb5-1258-4bca-a7bd-76b9d86c5c2e",
   "metadata": {},
   "outputs": [],
   "source": [
    "#1. What is the distribution of this sample by race? Run summary stats. If you have time, visualize this relationship with ggplot."
   ]
  },
  {
   "cell_type": "code",
   "execution_count": null,
   "id": "79eb16c7-e822-48f3-a236-1fa91868ecc2",
   "metadata": {},
   "outputs": [],
   "source": [
    "#2. How is the urbanrural variable distributed across racial categories in this sample? Run summary stats. If you have time, visualize this relationship with ggplot."
   ]
  },
  {
   "cell_type": "code",
   "execution_count": null,
   "id": "6371f0be-d2be-4e16-8814-7a23d40a08e0",
   "metadata": {},
   "outputs": [],
   "source": [
    "#3. How does household networth vary by race in this sample? Run summary stats. If you have time, visualize this relationship with ggplot."
   ]
  },
  {
   "cell_type": "markdown",
   "id": "ce892af0-8e70-41f7-a316-5e4ff560aa33",
   "metadata": {},
   "source": [
    "Trickier"
   ]
  },
  {
   "cell_type": "code",
   "execution_count": null,
   "id": "57e2a4c0-f109-4ee8-a71a-b36c1a89913a",
   "metadata": {},
   "outputs": [],
   "source": [
    "#4. Merge df_networth with df_simple. You will need to use join, a dplyr verb we didn't try. Ask google/chatgpt about it, or type '?join\" into your console to read the docs."
   ]
  },
  {
   "cell_type": "code",
   "execution_count": null,
   "id": "bf36c8f9-06ff-429f-ae2f-b32ba08d34a0",
   "metadata": {},
   "outputs": [],
   "source": [
    "#5. Create a scatterplot with household income on the x-axis and household networth on the y-axis. "
   ]
  }
 ],
 "metadata": {
  "kernelspec": {
   "display_name": "R",
   "language": "R",
   "name": "ir"
  },
  "language_info": {
   "codemirror_mode": "r",
   "file_extension": ".r",
   "mimetype": "text/x-r-source",
   "name": "R",
   "pygments_lexer": "r",
   "version": "3.6.1"
  }
 },
 "nbformat": 4,
 "nbformat_minor": 5
}
